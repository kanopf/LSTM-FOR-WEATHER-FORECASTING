{
  "nbformat": 4,
  "nbformat_minor": 0,
  "metadata": {
    "colab": {
      "name": "LSTMFORECASTING",
      "provenance": [],
      "collapsed_sections": [],
      "toc_visible": true,
      "include_colab_link": true
    },
    "kernelspec": {
      "display_name": "Python 3",
      "name": "python3"
    }
  },
  "cells": [
    {
      "cell_type": "markdown",
      "metadata": {
        "id": "view-in-github",
        "colab_type": "text"
      },
      "source": [
        "<a href=\"https://colab.research.google.com/github/kanopf/LSTM-FOR-WEATHER-FORECASTING/blob/main/LSTMFORECASTING.ipynb\" target=\"_parent\"><img src=\"https://colab.research.google.com/assets/colab-badge.svg\" alt=\"Open In Colab\"/></a>"
      ]
    },
    {
      "cell_type": "markdown",
      "metadata": {
        "id": "5fCEDCU_qrC0"
      },
      "source": [
        "<p><img alt=\"Colaboratory logo\" import height=\"45px\" src=\"/img/colab_favicon.ico\" align=\"left\" hspace=\"10px\" vspace=\"0px\"></p>\n",
        "\n",
        "<h1>What is Colaboratory?</h1>\n",
        "\n",
        "Colaboratory, or \"Colab\" for short, allows you to write and execute Python in your browser, with \n",
        "- Zero configuration required\n",
        "- Free access to GPUs\n",
        "- Easy sharing\n",
        "\n",
        "Whether you're a **student**, a **data scientist** or an **AI researcher**, Colab can make your work easier. Watch [Introduction to Colab](https://www.youtube.com/watch?v=inN8seMm7UI) to learn more, or just get started below!"
      ]
    },
    {
      "cell_type": "markdown",
      "metadata": {
        "id": "sRi191hjq9Tl"
      },
      "source": [
        "# **LSTM PARA PREVISÃO DE TEMPERATURA**\n",
        "Neste código utilizamos dados do ano de 2013 para previsão de temperatura dos dois ultimos dias do ano, dia 30 e 31 / 12 / 2013.\n",
        "Esta RN é composta por uma camada LSTM e uma camada Densa posterior. "
      ]
    },
    {
      "cell_type": "code",
      "metadata": {
        "id": "FceOkODMUODc",
        "outputId": "de3ff9a7-3263-4e8f-c6f0-3068edc7efa9",
        "colab": {
          "resources": {
            "http://localhost:8080/nbextensions/google.colab/files.js": {
              "data": "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",
              "ok": true,
              "headers": [
                [
                  "content-type",
                  "application/javascript"
                ]
              ],
              "status": 200,
              "status_text": ""
            }
          },
          "base_uri": "https://localhost:8080/",
          "height": 1000
        }
      },
      "source": [
        "# LSTM Para previsão de temperatura\n",
        "# Código criado para rodar em google Colab\n",
        "\n",
        "import numpy as np\n",
        "import matplotlib.pyplot as plt\n",
        "import math\n",
        "from keras.models import Sequential\n",
        "from keras.layers import Dense\n",
        "from keras.layers import LSTM\n",
        "from sklearn.preprocessing import MinMaxScaler\n",
        "from sklearn.metrics import mean_squared_error\n",
        "from google.colab import files\n",
        "import pandas as pd\n",
        "import io\n",
        "\n",
        "uploaded1   = files.upload() # Comando que cria uma variavel na memória do Colab para upload de arquivos \n",
        "\n",
        "# Abrindo os arquivos \"upload1\" que estão separados como DataFrames em Pandas, e as colunas que nos interessa fazer a previsão. Algo = data.\n",
        "janeiro   = pd.read_csv(io.StringIO(uploaded1['201301.dat'].decode(\"utf-8\")),delimiter=',',usecols=['algo','hora','temp_inst'],  engine='python')\n",
        "fevereiro = pd.read_csv(io.StringIO(uploaded1['201302.dat'].decode(\"utf-8\")),delimiter=',',usecols=['algo','hora','temp_inst'],  engine='python')\n",
        "março     = pd.read_csv(io.StringIO(uploaded1['201303.dat'].decode(\"utf-8\")),delimiter=',',usecols=['algo','hora','temp_inst'],  engine='python')\n",
        "abril     = pd.read_csv(io.StringIO(uploaded1['201304.dat'].decode(\"utf-8\")),delimiter=',',usecols=['algo','hora','temp_inst'],  engine='python')\n",
        "maio      = pd.read_csv(io.StringIO(uploaded1['201305.dat'].decode(\"utf-8\")),delimiter=',',usecols=['algo','hora','temp_inst'],  engine='python')\n",
        "junho     = pd.read_csv(io.StringIO(uploaded1['201306.dat'].decode(\"utf-8\")),delimiter=',',usecols=['algo','hora','temp_inst'],  engine='python')\n",
        "julho     = pd.read_csv(io.StringIO(uploaded1['201307.dat'].decode(\"utf-8\")),delimiter=',',usecols=['algo','hora','temp_inst'],  engine='python')\n",
        "agosto    = pd.read_csv(io.StringIO(uploaded1['201308.dat'].decode(\"utf-8\")),delimiter=',',usecols=['algo','hora','temp_inst'],  engine='python')\n",
        "setembro  = pd.read_csv(io.StringIO(uploaded1['201309.dat'].decode(\"utf-8\")),delimiter=',',usecols=['algo','hora','temp_inst'],  engine='python')\n",
        "outubro   = pd.read_csv(io.StringIO(uploaded1['201310.dat'].decode(\"utf-8\")),delimiter=',',usecols=['algo','hora','temp_inst'],  engine='python')\n",
        "novembro  = pd.read_csv(io.StringIO(uploaded1['201311.dat'].decode(\"utf-8\")),delimiter=',',usecols=['algo','hora','temp_inst'],  engine='python')\n",
        "dezembro  = pd.read_csv(io.StringIO(uploaded1['201312.dat'].decode(\"utf-8\")),delimiter=',',usecols=['algo','hora','temp_inst'],  engine='python')\n",
        "\n",
        "\n",
        "#Utilizando pandas reset index podemos reindexar as colunas utilizando (drop) para resetar a indexação tornando como padrão\n",
        "# a ordem de entrada dos arquivos, e utilizando inplace= True para tornar padrão essa indexação.\n",
        "janeiro.reset_index(drop=True, inplace=True)\n",
        "fevereiro.reset_index(drop=True, inplace=True)\n",
        "março.reset_index(drop=True, inplace=True)\n",
        "abril.reset_index(drop=True, inplace=True)\n",
        "maio.reset_index(drop=True, inplace=True)\n",
        "junho.reset_index(drop=True, inplace=True)\n",
        "julho.reset_index(drop=True, inplace=True)\n",
        "agosto.reset_index(drop=True, inplace=True)\n",
        "setembro.reset_index(drop=True, inplace=True)\n",
        "outubro.reset_index(drop=True, inplace=True)\n",
        "novembro.reset_index(drop=True, inplace=True)\n",
        "dezembro.reset_index(drop=True, inplace=True)\n",
        "print(dezembro)\n",
        "\n",
        "#Juntando todos os dados do ano em um único dataset\n",
        "dataset = pd.concat([janeiro, fevereiro,março,abril,maio,junho,julho,agosto,setembro,outubro,novembro,dezembro],names=['algo', 'hora','temp_inst'],axis=0, ignore_index=False, sort=False)\n",
        "\n",
        "#extraindo os valores da variavel temperatura instantanea.\n",
        "dataset= dataset[['temp_inst']].values\n",
        "\n",
        "\n",
        "#Plotando as ultimas 48 horas do ano\n",
        "#Salvando a figura e fazendo o download com files.download ()\n",
        "###################################\n",
        "\n",
        "plt.xlim(8700, 8749)\n",
        "plt.ylim(20,40)\n",
        "plt.title('Temperatura em Santa Maria 2013')\n",
        "plt.ylabel('Temperatura °C')\n",
        "plt.xlabel('horas do ano')\n",
        "\n",
        "\n",
        "plt.plot(dataset)\n",
        "\n",
        "plt.savefig('test.png',dpi=1000)\n",
        "files.download('test.png')\n",
        "\n",
        "plt.show()\n",
        "#################################\n",
        "\n",
        "\n",
        "\n",
        "\n",
        "print(dataset)\n",
        "\n",
        "\n",
        "\n",
        "\n",
        "\n",
        "# Neste ponto cria-se uma coluna defasada nas matrizes\n",
        "#dataX >> Variavel defasada para entrada dos dados na rede Neural\n",
        "#dataY >> Variavel de saída que esperamos obter\n",
        "#look_back >> parâmetro de defasagem no tempo \n",
        "def create_dataset(dataset, look_back):\n",
        "\tdataX, dataY = [], []\n",
        "\tfor i in range(len(dataset)-look_back):\n",
        "\t\ta = dataset[i:(i+look_back), 0]\n",
        "\t\tdataX.append(a)\n",
        "\t\tdataY.append(dataset[i + look_back, 0])\n",
        "\treturn np.array(dataX), np.array(dataY)\n",
        "\n",
        "\n",
        "# evitar repetiçoes \n",
        "np.random.seed(7)\n",
        "\n",
        "\n",
        "# carregando dataset e transformando em float\n",
        "dataframe = dataset\n",
        "dataset = dataset.astype('float32')\n",
        "\n",
        "\n",
        "# normalizaçao do dataset para evitar problemas com as ativações\n",
        "scaler = MinMaxScaler(feature_range=(0, 1))\n",
        "dataset = scaler.fit_transform(dataset)\n",
        "\n",
        "\n",
        "# crianto variaveis de treino, neste caso com 99% dos dados para treino\n",
        "train_size = int(len(dataset) * 0.99)\n",
        "test_size = len(dataset) - train_size\n",
        "train, test = dataset[0:train_size,:], dataset[train_size:len(dataset),:]\n",
        "\n",
        "\n",
        "# criando dois conjuntos de dados, X=t e Y=t+1, onde look_back é a quantidade\n",
        "# de variaveis de entrada da rede\n",
        "look_back = 24\n",
        "trainX, trainY = create_dataset(train, look_back)\n",
        "testX, testY = create_dataset(test, look_back)\n",
        "\n",
        "\n",
        "# como LSTM depende de um formato [input, time steps, formato]\n",
        "trainX = np.reshape(trainX, (trainX.shape[0], 1, trainX.shape[1]))\n",
        "testX = np.reshape(testX, (testX.shape[0], 1, testX.shape[1]))\n",
        "\n",
        "\n",
        "# criando lstm\n",
        "model = Sequential()\n",
        "model.add(LSTM(4, input_shape=(1, look_back)))\n",
        "model.add(Dense(1))\n",
        "model.compile(loss='mean_squared_error', optimizer='adam')\n",
        "model.fit(trainX, trainY, epochs=100, batch_size=24, verbose=1)\n",
        "\n",
        "\n",
        "# fazendo as predições\n",
        "trainPredict = model.predict(trainX)\n",
        "testPredict = model.predict(testX)\n",
        "\n",
        "\n",
        "# previsões inversas\n",
        "trainPredict = scaler.inverse_transform(trainPredict)\n",
        "trainY = scaler.inverse_transform([trainY])\n",
        "testPredict = scaler.inverse_transform(testPredict)\n",
        "testY = scaler.inverse_transform([testY])\n",
        "\n",
        "\n",
        "# raiz quadrada do erro quadratico medio\n",
        "trainScore = math.sqrt(mean_squared_error(trainY[0], trainPredict[:,0]))\n",
        "print('Train Score: %.2f RMSE' % (trainScore))\n",
        "testScore = math.sqrt(mean_squared_error(testY[0], testPredict[:,0]))\n",
        "print('Test Score: %.2f RMSE' % (testScore))\n",
        "\n",
        "\n",
        "# Separando previsão da RN para conjunto de treino\n",
        "trainPredictPlot = np.empty_like(dataset)\n",
        "trainPredictPlot[:, :] = np.nan\n",
        "trainPredictPlot[look_back:len(trainPredict)+look_back, :] = trainPredict\n",
        "\n",
        "\n",
        "# Separando previsão da RN para conjunto de teste\n",
        "testPredictPlot = np.empty_like(dataset)\n",
        "testPredictPlot[:, :] = np.nan\n",
        "testPredictPlot[len(trainPredict)+(look_back*2):len(dataset), :] = testPredict\n",
        "\n",
        "\n",
        "# plotando Dados + teste\n",
        "\n",
        "plt.xlim(8700,8749)\n",
        "\n",
        "plt.ylim(20,40)\n",
        "plt.title('Previsão de temperatura das 48 horas do dia 30 e 31/12/2013 (LSTM)')\n",
        "plt.ylabel('Temperatura °C')\n",
        "plt.xlabel('Horas')\n",
        "line1, = plt.plot(scaler.inverse_transform(dataset),color = 'black', label=\"temperatura Real\", linestyle='-')\n",
        "line2, = plt.plot(testPredictPlot,color = 'red', label=\"temperatura Prevista pela IA\", linewidth=1)\n",
        "\n",
        "# Create a legend for the first line.\n",
        "first_legend = plt.legend(handles=[line1], loc=1)\n",
        "\n",
        "# Add the legend manually to the current Axes.\n",
        "ax = plt.gca().add_artist(first_legend)\n",
        "\n",
        "# Create another legend for the second line.\n",
        "plt.legend(handles=[line2], loc=4)\n",
        "\n",
        "\n",
        "plt.savefig('test2.png',dpi=1000)\n",
        "files.download('test2.png')\n",
        "\n",
        "plt.show()"
      ],
      "execution_count": 4,
      "outputs": [
        {
          "output_type": "display_data",
          "data": {
            "text/html": [
              "\n",
              "     <input type=\"file\" id=\"files-23ecf4a1-4a2c-46ab-9459-702c3316aa69\" name=\"files[]\" multiple disabled\n",
              "        style=\"border:none\" />\n",
              "     <output id=\"result-23ecf4a1-4a2c-46ab-9459-702c3316aa69\">\n",
              "      Upload widget is only available when the cell has been executed in the\n",
              "      current browser session. Please rerun this cell to enable.\n",
              "      </output>\n",
              "      <script src=\"/nbextensions/google.colab/files.js\"></script> "
            ],
            "text/plain": [
              "<IPython.core.display.HTML object>"
            ]
          },
          "metadata": {
            "tags": []
          }
        },
        {
          "output_type": "stream",
          "text": [
            "Saving 201301.dat to 201301 (3).dat\n",
            "Saving 201302.dat to 201302 (3).dat\n",
            "Saving 201303.dat to 201303 (3).dat\n",
            "Saving 201304.dat to 201304 (3).dat\n",
            "Saving 201305.dat to 201305 (3).dat\n",
            "Saving 201306.dat to 201306 (3).dat\n",
            "Saving 201307.dat to 201307 (3).dat\n",
            "Saving 201308.dat to 201308 (3).dat\n",
            "Saving 201309.dat to 201309 (3).dat\n",
            "Saving 201310.dat to 201310 (3).dat\n",
            "Saving 201311.dat to 201311 (3).dat\n",
            "Saving 201312.dat to 201312 (3).dat\n",
            "           algo  hora  temp_inst\n",
            "0    2013-12-01     0       23.0\n",
            "1    2013-12-01     1       21.9\n",
            "2    2013-12-01     2       21.0\n",
            "3    2013-12-01     3       20.3\n",
            "4    2013-12-01     4       19.6\n",
            "..          ...   ...        ...\n",
            "739  2013-12-31    19       30.2\n",
            "740  2013-12-31    20       29.7\n",
            "741  2013-12-31    21       29.2\n",
            "742  2013-12-31    22       28.7\n",
            "743  2013-12-31    23       27.7\n",
            "\n",
            "[744 rows x 3 columns]\n"
          ],
          "name": "stdout"
        },
        {
          "output_type": "display_data",
          "data": {
            "application/javascript": [
              "\n",
              "    async function download(id, filename, size) {\n",
              "      if (!google.colab.kernel.accessAllowed) {\n",
              "        return;\n",
              "      }\n",
              "      const div = document.createElement('div');\n",
              "      const label = document.createElement('label');\n",
              "      label.textContent = `Downloading \"${filename}\": `;\n",
              "      div.appendChild(label);\n",
              "      const progress = document.createElement('progress');\n",
              "      progress.max = size;\n",
              "      div.appendChild(progress);\n",
              "      document.body.appendChild(div);\n",
              "\n",
              "      const buffers = [];\n",
              "      let downloaded = 0;\n",
              "\n",
              "      const channel = await google.colab.kernel.comms.open(id);\n",
              "      // Send a message to notify the kernel that we're ready.\n",
              "      channel.send({})\n",
              "\n",
              "      for await (const message of channel.messages) {\n",
              "        // Send a message to notify the kernel that we're ready.\n",
              "        channel.send({})\n",
              "        if (message.buffers) {\n",
              "          for (const buffer of message.buffers) {\n",
              "            buffers.push(buffer);\n",
              "            downloaded += buffer.byteLength;\n",
              "            progress.value = downloaded;\n",
              "          }\n",
              "        }\n",
              "      }\n",
              "      const blob = new Blob(buffers, {type: 'application/binary'});\n",
              "      const a = document.createElement('a');\n",
              "      a.href = window.URL.createObjectURL(blob);\n",
              "      a.download = filename;\n",
              "      div.appendChild(a);\n",
              "      a.click();\n",
              "      div.remove();\n",
              "    }\n",
              "  "
            ],
            "text/plain": [
              "<IPython.core.display.Javascript object>"
            ]
          },
          "metadata": {
            "tags": []
          }
        },
        {
          "output_type": "display_data",
          "data": {
            "application/javascript": [
              "download(\"download_5e7d21db-350a-4166-8f10-5e8af4f5c385\", \"test.png\", 470853)"
            ],
            "text/plain": [
              "<IPython.core.display.Javascript object>"
            ]
          },
          "metadata": {
            "tags": []
          }
        },
        {
          "output_type": "display_data",
          "data": {
            "image/png": "[encoded data removed]",
            "text/plain": [
              "<Figure size 432x288 with 1 Axes>"
            ]
          },
          "metadata": {
            "tags": [],
            "needs_background": "light"
          }
        },
        {
          "output_type": "stream",
          "text": [
            "[[30. ]\n",
            " [30. ]\n",
            " [19.8]\n",
            " ...\n",
            " [29.2]\n",
            " [28.7]\n",
            " [27.7]]\n",
            "Epoch 1/100\n",
            "361/361 [==============================] - 1s 1ms/step - loss: 0.0300\n",
            "Epoch 2/100\n",
            "361/361 [==============================] - 1s 1ms/step - loss: 0.0050\n",
            "Epoch 3/100\n",
            "361/361 [==============================] - 1s 1ms/step - loss: 0.0034\n",
            "Epoch 4/100\n",
            "361/361 [==============================] - 1s 1ms/step - loss: 0.0029\n",
            "Epoch 5/100\n",
            "361/361 [==============================] - 1s 1ms/step - loss: 0.0024\n",
            "Epoch 6/100\n",
            "361/361 [==============================] - 1s 1ms/step - loss: 0.0020\n",
            "Epoch 7/100\n",
            "361/361 [==============================] - 1s 1ms/step - loss: 0.0017\n",
            "Epoch 8/100\n",
            "361/361 [==============================] - 1s 1ms/step - loss: 0.0014\n",
            "Epoch 9/100\n",
            "361/361 [==============================] - 1s 1ms/step - loss: 0.0012\n",
            "Epoch 10/100\n",
            "361/361 [==============================] - 1s 1ms/step - loss: 0.0011\n",
            "Epoch 11/100\n",
            "361/361 [==============================] - 1s 1ms/step - loss: 0.0010\n",
            "Epoch 12/100\n",
            "361/361 [==============================] - 1s 1ms/step - loss: 9.7698e-04\n",
            "Epoch 13/100\n",
            "361/361 [==============================] - 1s 1ms/step - loss: 9.2786e-04\n",
            "Epoch 14/100\n",
            "361/361 [==============================] - 1s 2ms/step - loss: 8.9257e-04\n",
            "Epoch 15/100\n",
            "361/361 [==============================] - 1s 1ms/step - loss: 8.5118e-04\n",
            "Epoch 16/100\n",
            "361/361 [==============================] - 1s 2ms/step - loss: 8.2424e-04\n",
            "Epoch 17/100\n",
            "361/361 [==============================] - 1s 1ms/step - loss: 7.8291e-04\n",
            "Epoch 18/100\n",
            "361/361 [==============================] - 1s 2ms/step - loss: 7.7935e-04\n",
            "Epoch 19/100\n",
            "361/361 [==============================] - 1s 1ms/step - loss: 7.5305e-04\n",
            "Epoch 20/100\n",
            "361/361 [==============================] - 1s 1ms/step - loss: 7.3627e-04\n",
            "Epoch 21/100\n",
            "361/361 [==============================] - 1s 2ms/step - loss: 7.2611e-04\n",
            "Epoch 22/100\n",
            "361/361 [==============================] - 1s 1ms/step - loss: 7.0554e-04\n",
            "Epoch 23/100\n",
            "361/361 [==============================] - 1s 1ms/step - loss: 6.9606e-04\n",
            "Epoch 24/100\n",
            "361/361 [==============================] - 1s 1ms/step - loss: 6.8760e-04\n",
            "Epoch 25/100\n",
            "361/361 [==============================] - 1s 2ms/step - loss: 6.9129e-04\n",
            "Epoch 26/100\n",
            "361/361 [==============================] - 1s 1ms/step - loss: 6.7709e-04\n",
            "Epoch 27/100\n",
            "361/361 [==============================] - 1s 2ms/step - loss: 6.7379e-04\n",
            "Epoch 28/100\n",
            "361/361 [==============================] - 1s 2ms/step - loss: 6.6676e-04\n",
            "Epoch 29/100\n",
            "361/361 [==============================] - 1s 1ms/step - loss: 6.4973e-04\n",
            "Epoch 30/100\n",
            "361/361 [==============================] - 1s 2ms/step - loss: 6.4954e-04\n",
            "Epoch 31/100\n",
            "361/361 [==============================] - 1s 2ms/step - loss: 6.5346e-04\n",
            "Epoch 32/100\n",
            "361/361 [==============================] - 1s 1ms/step - loss: 6.4333e-04\n",
            "Epoch 33/100\n",
            "361/361 [==============================] - 1s 2ms/step - loss: 6.4918e-04\n",
            "Epoch 34/100\n",
            "361/361 [==============================] - 1s 1ms/step - loss: 6.3411e-04\n",
            "Epoch 35/100\n",
            "361/361 [==============================] - 1s 1ms/step - loss: 6.3576e-04\n",
            "Epoch 36/100\n",
            "361/361 [==============================] - 1s 1ms/step - loss: 6.2771e-04\n",
            "Epoch 37/100\n",
            "361/361 [==============================] - 1s 1ms/step - loss: 6.1958e-04\n",
            "Epoch 38/100\n",
            "361/361 [==============================] - 1s 2ms/step - loss: 6.4648e-04\n",
            "Epoch 39/100\n",
            "361/361 [==============================] - 1s 1ms/step - loss: 6.2745e-04\n",
            "Epoch 40/100\n",
            "361/361 [==============================] - 1s 2ms/step - loss: 6.2147e-04\n",
            "Epoch 41/100\n",
            "361/361 [==============================] - 1s 2ms/step - loss: 6.2332e-04\n",
            "Epoch 42/100\n",
            "361/361 [==============================] - 1s 2ms/step - loss: 6.1488e-04\n",
            "Epoch 43/100\n",
            "361/361 [==============================] - 1s 1ms/step - loss: 6.1181e-04\n",
            "Epoch 44/100\n",
            "361/361 [==============================] - 1s 2ms/step - loss: 6.0220e-04\n",
            "Epoch 45/100\n",
            "361/361 [==============================] - 1s 2ms/step - loss: 6.0684e-04\n",
            "Epoch 46/100\n",
            "361/361 [==============================] - 1s 1ms/step - loss: 6.1505e-04\n",
            "Epoch 47/100\n",
            "361/361 [==============================] - 1s 1ms/step - loss: 6.0945e-04\n",
            "Epoch 48/100\n",
            "361/361 [==============================] - 1s 1ms/step - loss: 6.0863e-04\n",
            "Epoch 49/100\n",
            "361/361 [==============================] - 1s 2ms/step - loss: 5.9697e-04\n",
            "Epoch 50/100\n",
            "361/361 [==============================] - 1s 1ms/step - loss: 6.0354e-04\n",
            "Epoch 51/100\n",
            "361/361 [==============================] - 1s 2ms/step - loss: 6.0601e-04\n",
            "Epoch 52/100\n",
            "361/361 [==============================] - 1s 1ms/step - loss: 6.0261e-04\n",
            "Epoch 53/100\n",
            "361/361 [==============================] - 1s 2ms/step - loss: 6.0031e-04\n",
            "Epoch 54/100\n",
            "361/361 [==============================] - 1s 1ms/step - loss: 5.8598e-04\n",
            "Epoch 55/100\n",
            "361/361 [==============================] - 1s 1ms/step - loss: 6.0348e-04\n",
            "Epoch 56/100\n",
            "361/361 [==============================] - 1s 1ms/step - loss: 5.9547e-04\n",
            "Epoch 57/100\n",
            "361/361 [==============================] - 1s 1ms/step - loss: 5.9815e-04\n",
            "Epoch 58/100\n",
            "361/361 [==============================] - 1s 2ms/step - loss: 5.8873e-04\n",
            "Epoch 59/100\n",
            "361/361 [==============================] - 1s 1ms/step - loss: 5.9105e-04\n",
            "Epoch 60/100\n",
            "361/361 [==============================] - 1s 1ms/step - loss: 5.9899e-04\n",
            "Epoch 61/100\n",
            "361/361 [==============================] - 1s 1ms/step - loss: 5.8639e-04\n",
            "Epoch 62/100\n",
            "361/361 [==============================] - 1s 2ms/step - loss: 6.1318e-04\n",
            "Epoch 63/100\n",
            "361/361 [==============================] - 1s 1ms/step - loss: 5.9066e-04\n",
            "Epoch 64/100\n",
            "361/361 [==============================] - 1s 1ms/step - loss: 5.8542e-04\n",
            "Epoch 65/100\n",
            "361/361 [==============================] - 1s 1ms/step - loss: 5.9007e-04\n",
            "Epoch 66/100\n",
            "361/361 [==============================] - 1s 2ms/step - loss: 6.0045e-04\n",
            "Epoch 67/100\n",
            "361/361 [==============================] - 1s 1ms/step - loss: 5.8353e-04\n",
            "Epoch 68/100\n",
            "361/361 [==============================] - 1s 1ms/step - loss: 5.9034e-04\n",
            "Epoch 69/100\n",
            "361/361 [==============================] - 1s 1ms/step - loss: 5.8192e-04\n",
            "Epoch 70/100\n",
            "361/361 [==============================] - 1s 1ms/step - loss: 5.8347e-04\n",
            "Epoch 71/100\n",
            "361/361 [==============================] - 1s 1ms/step - loss: 6.1082e-04\n",
            "Epoch 72/100\n",
            "361/361 [==============================] - 1s 1ms/step - loss: 5.7258e-04\n",
            "Epoch 73/100\n",
            "361/361 [==============================] - 1s 2ms/step - loss: 5.7604e-04\n",
            "Epoch 74/100\n",
            "361/361 [==============================] - 1s 2ms/step - loss: 5.8713e-04\n",
            "Epoch 75/100\n",
            "361/361 [==============================] - 1s 1ms/step - loss: 5.7425e-04\n",
            "Epoch 76/100\n",
            "361/361 [==============================] - 1s 1ms/step - loss: 5.8769e-04\n",
            "Epoch 77/100\n",
            "361/361 [==============================] - 1s 2ms/step - loss: 5.9043e-04\n",
            "Epoch 78/100\n",
            "361/361 [==============================] - 1s 1ms/step - loss: 5.8380e-04\n",
            "Epoch 79/100\n",
            "361/361 [==============================] - 1s 1ms/step - loss: 5.6869e-04\n",
            "Epoch 80/100\n",
            "361/361 [==============================] - 1s 2ms/step - loss: 5.8120e-04\n",
            "Epoch 81/100\n",
            "361/361 [==============================] - 1s 2ms/step - loss: 5.8805e-04\n",
            "Epoch 82/100\n",
            "361/361 [==============================] - 1s 1ms/step - loss: 5.7739e-04\n",
            "Epoch 83/100\n",
            "361/361 [==============================] - 1s 2ms/step - loss: 5.7361e-04\n",
            "Epoch 84/100\n",
            "361/361 [==============================] - 1s 1ms/step - loss: 5.7820e-04\n",
            "Epoch 85/100\n",
            "361/361 [==============================] - 1s 1ms/step - loss: 5.8091e-04\n",
            "Epoch 86/100\n",
            "361/361 [==============================] - 1s 2ms/step - loss: 5.8183e-04\n",
            "Epoch 87/100\n",
            "361/361 [==============================] - 1s 1ms/step - loss: 5.8090e-04\n",
            "Epoch 88/100\n",
            "361/361 [==============================] - 1s 1ms/step - loss: 5.6735e-04\n",
            "Epoch 89/100\n",
            "361/361 [==============================] - 1s 2ms/step - loss: 5.7589e-04\n",
            "Epoch 90/100\n",
            "361/361 [==============================] - 1s 2ms/step - loss: 5.8082e-04\n",
            "Epoch 91/100\n",
            "361/361 [==============================] - 1s 1ms/step - loss: 5.7810e-04\n",
            "Epoch 92/100\n",
            "361/361 [==============================] - 1s 1ms/step - loss: 5.6076e-04\n",
            "Epoch 93/100\n",
            "361/361 [==============================] - 1s 1ms/step - loss: 5.7358e-04\n",
            "Epoch 94/100\n",
            "361/361 [==============================] - 1s 2ms/step - loss: 5.8258e-04\n",
            "Epoch 95/100\n",
            "361/361 [==============================] - 1s 1ms/step - loss: 5.8132e-04\n",
            "Epoch 96/100\n",
            "361/361 [==============================] - 1s 2ms/step - loss: 5.7571e-04\n",
            "Epoch 97/100\n",
            "361/361 [==============================] - 1s 1ms/step - loss: 5.7512e-04\n",
            "Epoch 98/100\n",
            "361/361 [==============================] - 1s 2ms/step - loss: 5.8275e-04\n",
            "Epoch 99/100\n",
            "361/361 [==============================] - 1s 1ms/step - loss: 5.7296e-04\n",
            "Epoch 100/100\n",
            "361/361 [==============================] - 1s 1ms/step - loss: 5.7663e-04\n",
            "Train Score: 0.92 RMSE\n",
            "Test Score: 1.05 RMSE\n"
          ],
          "name": "stdout"
        },
        {
          "output_type": "display_data",
          "data": {
            "application/javascript": [
              "\n",
              "    async function download(id, filename, size) {\n",
              "      if (!google.colab.kernel.accessAllowed) {\n",
              "        return;\n",
              "      }\n",
              "      const div = document.createElement('div');\n",
              "      const label = document.createElement('label');\n",
              "      label.textContent = `Downloading \"${filename}\": `;\n",
              "      div.appendChild(label);\n",
              "      const progress = document.createElement('progress');\n",
              "      progress.max = size;\n",
              "      div.appendChild(progress);\n",
              "      document.body.appendChild(div);\n",
              "\n",
              "      const buffers = [];\n",
              "      let downloaded = 0;\n",
              "\n",
              "      const channel = await google.colab.kernel.comms.open(id);\n",
              "      // Send a message to notify the kernel that we're ready.\n",
              "      channel.send({})\n",
              "\n",
              "      for await (const message of channel.messages) {\n",
              "        // Send a message to notify the kernel that we're ready.\n",
              "        channel.send({})\n",
              "        if (message.buffers) {\n",
              "          for (const buffer of message.buffers) {\n",
              "            buffers.push(buffer);\n",
              "            downloaded += buffer.byteLength;\n",
              "            progress.value = downloaded;\n",
              "          }\n",
              "        }\n",
              "      }\n",
              "      const blob = new Blob(buffers, {type: 'application/binary'});\n",
              "      const a = document.createElement('a');\n",
              "      a.href = window.URL.createObjectURL(blob);\n",
              "      a.download = filename;\n",
              "      div.appendChild(a);\n",
              "      a.click();\n",
              "      div.remove();\n",
              "    }\n",
              "  "
            ],
            "text/plain": [
              "<IPython.core.display.Javascript object>"
            ]
          },
          "metadata": {
            "tags": []
          }
        },
        {
          "output_type": "display_data",
          "data": {
            "application/javascript": [
              "download(\"download_72bf98bd-0d74-485b-a38f-10ed4d5650df\", \"test2.png\", 682342)"
            ],
            "text/plain": [
              "<IPython.core.display.Javascript object>"
            ]
          },
          "metadata": {
            "tags": []
          }
        },
        {
          "output_type": "display_data",
          "data": {
            "image/png": "[encoded data removed]",
            "text/plain": [
              "<Figure size 432x288 with 1 Axes>"
            ]
          },
          "metadata": {
            "tags": [],
            "needs_background": "light"
          }
        }
      ]
    },
    {
      "cell_type": "markdown",
      "metadata": {
        "id": "GJBs_flRovLc"
      },
      "source": [
        "## **Getting started**\n",
        "\n",
        "The document you are reading is not a static web page, but an interactive environment called a **Colab notebook** that lets you write and execute code.\n",
        "\n",
        "For example, here is a **code cell** with a short Python script that computes a value, stores it in a variable, and prints the result:"
      ]
    },
    {
      "cell_type": "code",
      "metadata": {
        "id": "gJr_9dXGpJ05",
        "outputId": "9f556d03-ec67-4950-a485-cfdba9ddd14d",
        "colab": {
          "base_uri": "https://localhost:8080/",
          "height": 34
        }
      },
      "source": [
        "seconds_in_a_day = 24 * 60 * 60\n",
        "seconds_in_a_day"
      ],
      "execution_count": null,
      "outputs": [
        {
          "output_type": "execute_result",
          "data": {
            "text/plain": [
              "86400"
            ]
          },
          "metadata": {
            "tags": []
          },
          "execution_count": 0
        }
      ]
    },
    {
      "cell_type": "markdown",
      "metadata": {
        "id": "2fhs6GZ4qFMx"
      },
      "source": [
        "To execute the code in the above cell, select it with a click and then either press the play button to the left of the code, or use the keyboard shortcut \"Command/Ctrl+Enter\". To edit the code, just click the cell and start editing.\n",
        "\n",
        "Variables that you define in one cell can later be used in other cells:"
      ]
    },
    {
      "cell_type": "code",
      "metadata": {
        "id": "-gE-Ez1qtyIA",
        "outputId": "94cb2224-0edf-457b-90b5-0ac3488d8a97",
        "colab": {
          "base_uri": "https://localhost:8080/",
          "height": 34
        }
      },
      "source": [
        "seconds_in_a_week = 7 * seconds_in_a_day\n",
        "seconds_in_a_week"
      ],
      "execution_count": null,
      "outputs": [
        {
          "output_type": "execute_result",
          "data": {
            "text/plain": [
              "604800"
            ]
          },
          "metadata": {
            "tags": []
          },
          "execution_count": 0
        }
      ]
    },
    {
      "cell_type": "markdown",
      "metadata": {
        "id": "lSrWNr3MuFUS"
      },
      "source": [
        "Colab notebooks allow you to combine **executable code** and **rich text** in a single document, along with **images**, **HTML**, **LaTeX** and more. When you create your own Colab notebooks, they are stored in your Google Drive account. You can easily share your Colab notebooks with co-workers or friends, allowing them to comment on your notebooks or even edit them. To learn more, see [Overview of Colab](/notebooks/basic_features_overview.ipynb). To create a new Colab notebook you can use the File menu above, or use the following link: [create a new Colab notebook](http://colab.research.google.com#create=true).\n",
        "\n",
        "Colab notebooks are Jupyter notebooks that are hosted by Colab. To learn more about the Jupyter project, see [jupyter.org](https://www.jupyter.org)."
      ]
    },
    {
      "cell_type": "markdown",
      "metadata": {
        "id": "UdRyKR44dcNI"
      },
      "source": [
        "## Data science\n",
        "\n",
        "With Colab you can harness the full power of popular Python libraries to analyze and visualize data. The code cell below uses **numpy** to generate some random data, and uses **matplotlib** to visualize it. To edit the code, just click the cell and start editing."
      ]
    },
    {
      "cell_type": "code",
      "metadata": {
        "id": "C4HZx7Gndbrh",
        "outputId": "46abc637-6abd-41b2-9bba-80a7ae992e06",
        "colab": {
          "base_uri": "https://localhost:8080/",
          "height": 281
        }
      },
      "source": [
        "import numpy as np\n",
        "from matplotlib import pyplot as plt\n",
        "\n",
        "ys = 200 + np.random.randn(100)\n",
        "x = [x for x in range(len(ys))]\n",
        "\n",
        "plt.plot(x, ys, '-')\n",
        "plt.fill_between(x, ys, 195, where=(ys > 195), facecolor='g', alpha=0.6)\n",
        "\n",
        "plt.title(\"Sample Visualization\")\n",
        "plt.show()"
      ],
      "execution_count": null,
      "outputs": [
        {
          "output_type": "display_data",
          "data": {
            "image/png": "[encoded data removed]",
            "text/plain": [
              "<Figure size 432x288 with 1 Axes>"
            ]
          },
          "metadata": {
            "tags": []
          }
        }
      ]
    },
    {
      "cell_type": "markdown",
      "metadata": {
        "id": "4_kCnsPUqS6o"
      },
      "source": [
        "You can import your own data into Colab notebooks from your Google Drive account, including from spreadsheets, as well as from Github and many other sources. To learn more about importing data, and how Colab can be used for data science, see the links below under [Working with Data](#working-with-data)."
      ]
    },
    {
      "cell_type": "markdown",
      "metadata": {
        "id": "OwuxHmxllTwN"
      },
      "source": [
        "## Machine learning\n",
        "\n",
        "With Colab you can import an image dataset, train an image classifier on it, and evaluate the model, all in just [a few lines of code](https://colab.research.google.com/github/tensorflow/docs/blob/master/site/en/tutorials/quickstart/beginner.ipynb). Colab notebooks execute code on Google's cloud servers, meaning you can leverage the power of Google hardware, including [GPUs and TPUs](#using-accelerated-hardware), regardless of the power of your machine. All you need is a browser."
      ]
    },
    {
      "cell_type": "markdown",
      "metadata": {
        "id": "ufxBm1yRnruN"
      },
      "source": [
        "Colab is used extensively in the machine learning community with applications including:\n",
        "- Getting started with TensorFlow\n",
        "- Developing and training neural networks\n",
        "- Experimenting with TPUs\n",
        "- Disseminating AI research\n",
        "- Creating tutorials\n",
        "\n",
        "To see sample Colab notebooks that demonstrate machine learning applications, see the [machine learning examples](#machine-learning-examples) below."
      ]
    },
    {
      "cell_type": "markdown",
      "metadata": {
        "id": "-Rh3-Vt9Nev9"
      },
      "source": [
        "## More Resources\n",
        "\n",
        "### Working with Notebooks in Colab\n",
        "- [Overview of Colaboratory](/notebooks/basic_features_overview.ipynb)\n",
        "- [Guide to Markdown](/notebooks/markdown_guide.ipynb)\n",
        "- [Importing libraries and installing dependencies](/notebooks/snippets/importing_libraries.ipynb)\n",
        "- [Saving and loading notebooks in GitHub](https://colab.research.google.com/github/googlecolab/colabtools/blob/master/notebooks/colab-github-demo.ipynb)\n",
        "- [Interactive forms](/notebooks/forms.ipynb)\n",
        "- [Interactive widgets](/notebooks/widgets.ipynb)\n",
        "- <img src=\"/img/new.png\" height=\"20px\" align=\"left\" hspace=\"4px\" alt=\"New\"></img>\n",
        " [TensorFlow 2 in Colab](/notebooks/tensorflow_version.ipynb)\n",
        "\n",
        "<a name=\"working-with-data\"></a>\n",
        "### Working with Data\n",
        "- [Loading data: Drive, Sheets, and Google Cloud Storage](/notebooks/io.ipynb) \n",
        "- [Charts: visualizing data](/notebooks/charts.ipynb)\n",
        "- [Getting started with BigQuery](/notebooks/bigquery.ipynb)\n",
        "\n",
        "### Machine Learning Crash Course\n",
        "These are a few of the notebooks from Google's online Machine Learning course. See the [full course website](https://developers.google.com/machine-learning/crash-course/) for more.\n",
        "- [Intro to Pandas](/notebooks/mlcc/intro_to_pandas.ipynb)\n",
        "- [Tensorflow concepts](/notebooks/mlcc/tensorflow_programming_concepts.ipynb)\n",
        "- [First steps with TensorFlow](/notebooks/mlcc/first_steps_with_tensor_flow.ipynb)\n",
        "- [Intro to neural nets](/notebooks/mlcc/intro_to_neural_nets.ipynb)\n",
        "- [Intro to sparse data and embeddings](/notebooks/mlcc/intro_to_sparse_data_and_embeddings.ipynb)\n",
        "\n",
        "<a name=\"using-accelerated-hardware\"></a>\n",
        "### Using Accelerated Hardware\n",
        "- [TensorFlow with GPUs](/notebooks/gpu.ipynb)\n",
        "- [TensorFlow with TPUs](/notebooks/tpu.ipynb)"
      ]
    },
    {
      "cell_type": "markdown",
      "metadata": {
        "id": "P-H6Lw1vyNNd"
      },
      "source": [
        "<a name=\"machine-learning-examples\"></a>\n",
        "\n",
        "## Machine Learning Examples\n",
        "\n",
        "To see end-to-end examples of the interactive machine learning analyses that Colaboratory makes possible, check out these  tutorials using models from [TensorFlow Hub](https://tfhub.dev).\n",
        "\n",
        "A few featured examples:\n",
        "\n",
        "- [Retraining an Image Classifier](https://tensorflow.org/hub/tutorials/tf2_image_retraining): Build a Keras model on top of a pre-trained image classifier to distinguish flowers.\n",
        "- [Text Classification](https://tensorflow.org/hub/tutorials/tf2_text_classification): Classify IMDB movie reviews as either *positive* or *negative*.\n",
        "- [Style Transfer](https://tensorflow.org/hub/tutorials/tf2_arbitrary_image_stylization): Use deep learning to transfer style between images.\n",
        "- [Multilingual Universal Sentence Encoder Q&A](https://tensorflow.org/hub/tutorials/retrieval_with_tf_hub_universal_encoder_qa): Use a machine learning model to answer questions from the SQuAD dataset.\n",
        "- [Video Interpolation](https://tensorflow.org/hub/tutorials/tweening_conv3d): Predict what happened in a video between the first and the last frame.\n"
      ]
    },
    {
      "cell_type": "code",
      "metadata": {
        "id": "rWANRqmzoYVz"
      },
      "source": [
        ""
      ],
      "execution_count": null,
      "outputs": []
    },
    {
      "cell_type": "code",
      "metadata": {
        "id": "iLYPm-MOoYua"
      },
      "source": [
        ""
      ],
      "execution_count": null,
      "outputs": []
    },
    {
      "cell_type": "code",
      "metadata": {
        "id": "1W9AA-2-oZJa",
        "outputId": "9eda3bf5-1309-4f32-f94d-85a78d46610d",
        "colab": {
          "base_uri": "https://localhost:8080/",
          "height": 391
        }
      },
      "source": [
        "from keras.models import Sequential\n",
        "from keras.layers import Dense\n",
        "from keras.layers import LSTM\n",
        "from sklearn.preprocessing import MinMaxScaler\n",
        "from sklearn.metrics import mean_squared_error\n",
        "\n",
        "import numpy as np\n",
        "import math\n",
        "import pandas as pd\n",
        "import matplotlib.pyplot as plt\n",
        "from google.colab import files\n",
        "import io\n",
        "\n",
        "np.random.seed(7)\n",
        "uploaded = files.upload()\n",
        "df = pd.read_csv(io.StringIO(uploaded[\"aereo.txt\"].decode(\"utf-8\")),usecols=[1], engine= 'python')\n",
        "plt.plot(df)\n",
        "plt.show\n",
        "print(df)\n",
        "\n",
        "ds =df.values\n",
        "ds =ds.astype('float32')\n",
        "scaler = MinMaxScaler(feature_range=(0,1))\n",
        "ds = scaler.fit_transform(ds)\n",
        "\n",
        "#separando os dados de treino e teste\n",
        "\n",
        "# % de dados de treino\n",
        "per_train = 0.67\n",
        "\n",
        "train_size = int(len(ds)*per_train)\n",
        "test_size = len(ds) - train_size\n",
        "train, test = ds[0:train_size,:], ds[train_size:len(ds),1:]\n",
        "print(len(train),len(test))\n",
        "\n",
        "#criando uma variavel X para o numero de passageiros em (t)\n",
        "#E uma variavel Y para para os passageiros em (t+1)\n",
        "#o parametro look back é o numero de entradas da rede neural para previsão\n",
        "def create_dataset(dataset, look_back=1):\n",
        "  dataX,dataY=[], []\n",
        "  for i in range(len(ds)-look_back-1):\n",
        "    a= ds[i:(i+look_back),0]\n",
        "    dataX.append(a)\n",
        "    dataY.append(ds[i + look_back,0])\n",
        "  return np.array(dataX),np.array(dataY)\n",
        "\n",
        "look_back = 1\n",
        "\n",
        "trainX, trainY= create_dataset(train, look_back)\n",
        "testX, testY= create_dataset(test, look_back)\n",
        "\n",
        "#como as redes LSTM pedem as entradas como [entradas,time_step,formato]\n",
        "\n",
        "trainX = np.reshape(trainX,(trainX.shape[0],1,trainX.shape[1]))\n",
        "testX = np.reshape(testX,(testX.shape[0],1,testX.shape[1]))\n",
        "\n",
        "\n",
        "#formato da rede\n",
        "model = Sequential()\n",
        "model.add(LSTM(4, input_shape=(1, look_back)))\n",
        "model.add(Dense(1))\n",
        "model.compile(loss='mean_squared_error', optimizer='adam')\n",
        "model.fit(trainX, trainY, epochs=100, batch_size =1, verbose=2)\n",
        "\n",
        "#previsões\n",
        "trainPredict = model.predict(trainX)\n",
        "testPredict = model.predict(testX)\n",
        "#previsão inversa\n",
        "trainPredict = scaler.inverse_transform(trainPredict)\n",
        "trainY = scaler.inverse_transform([trainY])\n",
        "testPredict = scaler.inverse_transform(testPredict)\n",
        "testY = scaler.inverse_transform([testY])\n",
        "#calculando a erro quadratico médio\n",
        "\n",
        "trainScore = math.sqrt(mean_squared_error(trainY[0],trainPredict[:,0]))\n",
        "print('Escore do conjunto de treino: %.2f RMSE' % (trainScore))\n",
        "testScore = math.sqrt(mean_squared_error(testY[0], testPredict[:,0]))\n",
        "print('Escore do conjunto de teste: %2f RMSE' % (testScore))\n",
        "\n",
        "\n",
        "#separando as previsões do treino para plotar\n",
        "\n",
        "trainPredictPlot = np.empty_like(ds)\n",
        "trainPredictPlot[:,:] = np.nan\n",
        "trainPredictPlot[look_back:len(trainPredict)+look_back, :] = trainPredict\n",
        "\n",
        "#separando as previsões fo conjunto de test\n",
        "\n",
        "testPredictPlot = np.empty_like(ds)\n",
        "testPredictPlot[:, :] = np.nan \n",
        "testPredictPlot[len(trainPredict)+(look_back*2)+1:len(ds)-1, :] = testPredict\n",
        "\n",
        "#plotando, em Azul os dados originais, previsão com dados de treino em Verde\n",
        "#previsão com os dados de teste em vermelho\n",
        "\n",
        "plt.plot(scaler.inverse_transform(ds))\n",
        "plt.plot(trainPredictPlot)\n",
        "plt.plot(testPredictPlot)\n",
        "plt.show()\n",
        "\n"
      ],
      "execution_count": null,
      "outputs": [
        {
          "output_type": "error",
          "ename": "FileNotFoundError",
          "evalue": "ignored",
          "traceback": [
            "\u001b[0;31m---------------------------------------------------------------------------\u001b[0m",
            "\u001b[0;31mFileNotFoundError\u001b[0m                         Traceback (most recent call last)",
            "\u001b[0;32m<ipython-input-2-4e71e701f801>\u001b[0m in \u001b[0;36m<module>\u001b[0;34m()\u001b[0m\n\u001b[1;32m      1\u001b[0m \u001b[0;32mimport\u001b[0m \u001b[0mpandas\u001b[0m \u001b[0;32mas\u001b[0m \u001b[0mpd\u001b[0m\u001b[0;34m\u001b[0m\u001b[0;34m\u001b[0m\u001b[0m\n\u001b[1;32m      2\u001b[0m \u001b[0;32mimport\u001b[0m \u001b[0mmatplotlib\u001b[0m\u001b[0;34m.\u001b[0m\u001b[0mpyplot\u001b[0m \u001b[0;32mas\u001b[0m \u001b[0mplt\u001b[0m\u001b[0;34m\u001b[0m\u001b[0;34m\u001b[0m\u001b[0m\n\u001b[0;32m----> 3\u001b[0;31m \u001b[0mds\u001b[0m \u001b[0;34m=\u001b[0m \u001b[0mpd\u001b[0m\u001b[0;34m.\u001b[0m\u001b[0mread_csv\u001b[0m\u001b[0;34m(\u001b[0m\u001b[0;34m'aero'\u001b[0m\u001b[0;34m,\u001b[0m\u001b[0musecols\u001b[0m\u001b[0;34m=\u001b[0m\u001b[0;34m[\u001b[0m\u001b[0;36m1\u001b[0m\u001b[0;34m]\u001b[0m\u001b[0;34m,\u001b[0m \u001b[0mengine\u001b[0m\u001b[0;34m=\u001b[0m \u001b[0;34m'python'\u001b[0m\u001b[0;34m)\u001b[0m\u001b[0;34m\u001b[0m\u001b[0;34m\u001b[0m\u001b[0m\n\u001b[0m\u001b[1;32m      4\u001b[0m \u001b[0mplt\u001b[0m\u001b[0;34m.\u001b[0m\u001b[0mplot\u001b[0m\u001b[0;34m(\u001b[0m\u001b[0mdataset\u001b[0m\u001b[0;34m)\u001b[0m\u001b[0;34m\u001b[0m\u001b[0;34m\u001b[0m\u001b[0m\n\u001b[1;32m      5\u001b[0m \u001b[0mplt\u001b[0m\u001b[0;34m.\u001b[0m\u001b[0mshow\u001b[0m\u001b[0;34m\u001b[0m\u001b[0;34m\u001b[0m\u001b[0m\n",
            "\u001b[0;32m/usr/local/lib/python3.6/dist-packages/pandas/io/parsers.py\u001b[0m in \u001b[0;36mparser_f\u001b[0;34m(filepath_or_buffer, sep, delimiter, header, names, index_col, usecols, squeeze, prefix, mangle_dupe_cols, dtype, engine, converters, true_values, false_values, skipinitialspace, skiprows, skipfooter, nrows, na_values, keep_default_na, na_filter, verbose, skip_blank_lines, parse_dates, infer_datetime_format, keep_date_col, date_parser, dayfirst, cache_dates, iterator, chunksize, compression, thousands, decimal, lineterminator, quotechar, quoting, doublequote, escapechar, comment, encoding, dialect, error_bad_lines, warn_bad_lines, delim_whitespace, low_memory, memory_map, float_precision)\u001b[0m\n\u001b[1;32m    674\u001b[0m         )\n\u001b[1;32m    675\u001b[0m \u001b[0;34m\u001b[0m\u001b[0m\n\u001b[0;32m--> 676\u001b[0;31m         \u001b[0;32mreturn\u001b[0m \u001b[0m_read\u001b[0m\u001b[0;34m(\u001b[0m\u001b[0mfilepath_or_buffer\u001b[0m\u001b[0;34m,\u001b[0m \u001b[0mkwds\u001b[0m\u001b[0;34m)\u001b[0m\u001b[0;34m\u001b[0m\u001b[0;34m\u001b[0m\u001b[0m\n\u001b[0m\u001b[1;32m    677\u001b[0m \u001b[0;34m\u001b[0m\u001b[0m\n\u001b[1;32m    678\u001b[0m     \u001b[0mparser_f\u001b[0m\u001b[0;34m.\u001b[0m\u001b[0m__name__\u001b[0m \u001b[0;34m=\u001b[0m \u001b[0mname\u001b[0m\u001b[0;34m\u001b[0m\u001b[0;34m\u001b[0m\u001b[0m\n",
            "\u001b[0;32m/usr/local/lib/python3.6/dist-packages/pandas/io/parsers.py\u001b[0m in \u001b[0;36m_read\u001b[0;34m(filepath_or_buffer, kwds)\u001b[0m\n\u001b[1;32m    446\u001b[0m \u001b[0;34m\u001b[0m\u001b[0m\n\u001b[1;32m    447\u001b[0m     \u001b[0;31m# Create the parser.\u001b[0m\u001b[0;34m\u001b[0m\u001b[0;34m\u001b[0m\u001b[0;34m\u001b[0m\u001b[0m\n\u001b[0;32m--> 448\u001b[0;31m     \u001b[0mparser\u001b[0m \u001b[0;34m=\u001b[0m \u001b[0mTextFileReader\u001b[0m\u001b[0;34m(\u001b[0m\u001b[0mfp_or_buf\u001b[0m\u001b[0;34m,\u001b[0m \u001b[0;34m**\u001b[0m\u001b[0mkwds\u001b[0m\u001b[0;34m)\u001b[0m\u001b[0;34m\u001b[0m\u001b[0;34m\u001b[0m\u001b[0m\n\u001b[0m\u001b[1;32m    449\u001b[0m \u001b[0;34m\u001b[0m\u001b[0m\n\u001b[1;32m    450\u001b[0m     \u001b[0;32mif\u001b[0m \u001b[0mchunksize\u001b[0m \u001b[0;32mor\u001b[0m \u001b[0miterator\u001b[0m\u001b[0;34m:\u001b[0m\u001b[0;34m\u001b[0m\u001b[0;34m\u001b[0m\u001b[0m\n",
            "\u001b[0;32m/usr/local/lib/python3.6/dist-packages/pandas/io/parsers.py\u001b[0m in \u001b[0;36m__init__\u001b[0;34m(self, f, engine, **kwds)\u001b[0m\n\u001b[1;32m    878\u001b[0m             \u001b[0mself\u001b[0m\u001b[0;34m.\u001b[0m\u001b[0moptions\u001b[0m\u001b[0;34m[\u001b[0m\u001b[0;34m\"has_index_names\"\u001b[0m\u001b[0;34m]\u001b[0m \u001b[0;34m=\u001b[0m \u001b[0mkwds\u001b[0m\u001b[0;34m[\u001b[0m\u001b[0;34m\"has_index_names\"\u001b[0m\u001b[0;34m]\u001b[0m\u001b[0;34m\u001b[0m\u001b[0;34m\u001b[0m\u001b[0m\n\u001b[1;32m    879\u001b[0m \u001b[0;34m\u001b[0m\u001b[0m\n\u001b[0;32m--> 880\u001b[0;31m         \u001b[0mself\u001b[0m\u001b[0;34m.\u001b[0m\u001b[0m_make_engine\u001b[0m\u001b[0;34m(\u001b[0m\u001b[0mself\u001b[0m\u001b[0;34m.\u001b[0m\u001b[0mengine\u001b[0m\u001b[0;34m)\u001b[0m\u001b[0;34m\u001b[0m\u001b[0;34m\u001b[0m\u001b[0m\n\u001b[0m\u001b[1;32m    881\u001b[0m \u001b[0;34m\u001b[0m\u001b[0m\n\u001b[1;32m    882\u001b[0m     \u001b[0;32mdef\u001b[0m \u001b[0mclose\u001b[0m\u001b[0;34m(\u001b[0m\u001b[0mself\u001b[0m\u001b[0;34m)\u001b[0m\u001b[0;34m:\u001b[0m\u001b[0;34m\u001b[0m\u001b[0;34m\u001b[0m\u001b[0m\n",
            "\u001b[0;32m/usr/local/lib/python3.6/dist-packages/pandas/io/parsers.py\u001b[0m in \u001b[0;36m_make_engine\u001b[0;34m(self, engine)\u001b[0m\n\u001b[1;32m   1124\u001b[0m                     \u001b[0;34m'\"python-fwf\")'\u001b[0m\u001b[0;34m\u001b[0m\u001b[0;34m\u001b[0m\u001b[0m\n\u001b[1;32m   1125\u001b[0m                 )\n\u001b[0;32m-> 1126\u001b[0;31m             \u001b[0mself\u001b[0m\u001b[0;34m.\u001b[0m\u001b[0m_engine\u001b[0m \u001b[0;34m=\u001b[0m \u001b[0mklass\u001b[0m\u001b[0;34m(\u001b[0m\u001b[0mself\u001b[0m\u001b[0;34m.\u001b[0m\u001b[0mf\u001b[0m\u001b[0;34m,\u001b[0m \u001b[0;34m**\u001b[0m\u001b[0mself\u001b[0m\u001b[0;34m.\u001b[0m\u001b[0moptions\u001b[0m\u001b[0;34m)\u001b[0m\u001b[0;34m\u001b[0m\u001b[0;34m\u001b[0m\u001b[0m\n\u001b[0m\u001b[1;32m   1127\u001b[0m \u001b[0;34m\u001b[0m\u001b[0m\n\u001b[1;32m   1128\u001b[0m     \u001b[0;32mdef\u001b[0m \u001b[0m_failover_to_python\u001b[0m\u001b[0;34m(\u001b[0m\u001b[0mself\u001b[0m\u001b[0;34m)\u001b[0m\u001b[0;34m:\u001b[0m\u001b[0;34m\u001b[0m\u001b[0;34m\u001b[0m\u001b[0m\n",
            "\u001b[0;32m/usr/local/lib/python3.6/dist-packages/pandas/io/parsers.py\u001b[0m in \u001b[0;36m__init__\u001b[0;34m(self, f, **kwds)\u001b[0m\n\u001b[1;32m   2267\u001b[0m             \u001b[0mencoding\u001b[0m\u001b[0;34m=\u001b[0m\u001b[0mself\u001b[0m\u001b[0;34m.\u001b[0m\u001b[0mencoding\u001b[0m\u001b[0;34m,\u001b[0m\u001b[0;34m\u001b[0m\u001b[0;34m\u001b[0m\u001b[0m\n\u001b[1;32m   2268\u001b[0m             \u001b[0mcompression\u001b[0m\u001b[0;34m=\u001b[0m\u001b[0mself\u001b[0m\u001b[0;34m.\u001b[0m\u001b[0mcompression\u001b[0m\u001b[0;34m,\u001b[0m\u001b[0;34m\u001b[0m\u001b[0;34m\u001b[0m\u001b[0m\n\u001b[0;32m-> 2269\u001b[0;31m             \u001b[0mmemory_map\u001b[0m\u001b[0;34m=\u001b[0m\u001b[0mself\u001b[0m\u001b[0;34m.\u001b[0m\u001b[0mmemory_map\u001b[0m\u001b[0;34m,\u001b[0m\u001b[0;34m\u001b[0m\u001b[0;34m\u001b[0m\u001b[0m\n\u001b[0m\u001b[1;32m   2270\u001b[0m         )\n\u001b[1;32m   2271\u001b[0m         \u001b[0mself\u001b[0m\u001b[0;34m.\u001b[0m\u001b[0mhandles\u001b[0m\u001b[0;34m.\u001b[0m\u001b[0mextend\u001b[0m\u001b[0;34m(\u001b[0m\u001b[0mhandles\u001b[0m\u001b[0;34m)\u001b[0m\u001b[0;34m\u001b[0m\u001b[0;34m\u001b[0m\u001b[0m\n",
            "\u001b[0;32m/usr/local/lib/python3.6/dist-packages/pandas/io/common.py\u001b[0m in \u001b[0;36mget_handle\u001b[0;34m(path_or_buf, mode, encoding, compression, memory_map, is_text)\u001b[0m\n\u001b[1;32m    429\u001b[0m         \u001b[0;32melif\u001b[0m \u001b[0mis_text\u001b[0m\u001b[0;34m:\u001b[0m\u001b[0;34m\u001b[0m\u001b[0;34m\u001b[0m\u001b[0m\n\u001b[1;32m    430\u001b[0m             \u001b[0;31m# No explicit encoding\u001b[0m\u001b[0;34m\u001b[0m\u001b[0;34m\u001b[0m\u001b[0;34m\u001b[0m\u001b[0m\n\u001b[0;32m--> 431\u001b[0;31m             \u001b[0mf\u001b[0m \u001b[0;34m=\u001b[0m \u001b[0mopen\u001b[0m\u001b[0;34m(\u001b[0m\u001b[0mpath_or_buf\u001b[0m\u001b[0;34m,\u001b[0m \u001b[0mmode\u001b[0m\u001b[0;34m,\u001b[0m \u001b[0merrors\u001b[0m\u001b[0;34m=\u001b[0m\u001b[0;34m\"replace\"\u001b[0m\u001b[0;34m,\u001b[0m \u001b[0mnewline\u001b[0m\u001b[0;34m=\u001b[0m\u001b[0;34m\"\"\u001b[0m\u001b[0;34m)\u001b[0m\u001b[0;34m\u001b[0m\u001b[0;34m\u001b[0m\u001b[0m\n\u001b[0m\u001b[1;32m    432\u001b[0m         \u001b[0;32melse\u001b[0m\u001b[0;34m:\u001b[0m\u001b[0;34m\u001b[0m\u001b[0;34m\u001b[0m\u001b[0m\n\u001b[1;32m    433\u001b[0m             \u001b[0;31m# Binary mode\u001b[0m\u001b[0;34m\u001b[0m\u001b[0;34m\u001b[0m\u001b[0;34m\u001b[0m\u001b[0m\n",
            "\u001b[0;31mFileNotFoundError\u001b[0m: [Errno 2] No such file or directory: 'aero'"
          ]
        }
      ]
    }
  ]
}